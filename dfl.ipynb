{
  "nbformat": 4,
  "nbformat_minor": 0,
  "metadata": {
    "colab": {
      "name": "dfl.ipynb",
      "private_outputs": true,
      "provenance": [],
      "collapsed_sections": [],
      "authorship_tag": "ABX9TyOXv2wLXiSulnWZXNKyzS1n",
      "include_colab_link": true
    },
    "kernelspec": {
      "name": "python3",
      "display_name": "Python 3"
    },
    "language_info": {
      "name": "python"
    },
    "accelerator": "GPU"
  },
  "cells": [
    {
      "cell_type": "markdown",
      "metadata": {
        "id": "view-in-github",
        "colab_type": "text"
      },
      "source": [
        "<a href=\"https://colab.research.google.com/github/Hat3/dfl/blob/main/dfl.ipynb\" target=\"_parent\"><img src=\"https://colab.research.google.com/assets/colab-badge.svg\" alt=\"Open In Colab\"/></a>"
      ]
    },
    {
      "cell_type": "markdown",
      "source": [
        "TEST GPU\n",
        "add gpu support: Edit > Notebook settings or Runtime > Change runtime type and select GPU as Hardware accelerator."
      ],
      "metadata": {
        "id": "RCGjNji5yqrT"
      }
    },
    {
      "cell_type": "code",
      "source": [
        "#@title Test GPU\n",
        "!nvidia-smi"
      ],
      "metadata": {
        "id": "Y3lLu9c3yrGF"
      },
      "execution_count": null,
      "outputs": []
    },
    {
      "cell_type": "markdown",
      "source": [
        "Install or update DeepFaceLab"
      ],
      "metadata": {
        "id": "qprfW6X2aFee"
      }
    },
    {
      "cell_type": "code",
      "source": [
        "#@title Install or update DeepFaceLab\n",
        "\n",
        "from pathlib import Path\n",
        "\n",
        "if not Path(\"/content/DeepFaceLab\").exists():\n",
        "  !git clone https://github.com/iperov/DeepFaceLab.git\n",
        "  print(\"Clone Done!\")\n",
        "else:\n",
        "  %cd \"/content/DeepFaceLab\"\n",
        "  !git pull\n",
        "  print(\"Pull Done!\")"
      ],
      "metadata": {
        "id": "l9GVSVYzSIAp"
      },
      "execution_count": null,
      "outputs": []
    },
    {
      "cell_type": "markdown",
      "source": [
        "Install requirements"
      ],
      "metadata": {
        "id": "89nSEoBhaONA"
      }
    },
    {
      "cell_type": "code",
      "source": [
        "#@title Install requirements\n",
        "\n",
        "!pip uninstall -y tensorflow\n",
        "print(\"Uninstall tensorflow Done!\")\n",
        "\n",
        "!pip install -r /content/DeepFaceLab/requirements-colab.txt\n",
        "print(\"Install requirements-colab Done!\")\n",
        "\n",
        "!pip install --upgrade scikit-image\n",
        "print(\"Install scikit-image Done!\")\n",
        "\n",
        "!apt-get install cuda-10-0\n",
        "print(\"Install cuda-10-0 Done!\")\n",
        "\n",
        "print(\"Install Done!\")"
      ],
      "metadata": {
        "id": "YCyGyox6XPRr"
      },
      "execution_count": null,
      "outputs": []
    },
    {
      "cell_type": "markdown",
      "source": [
        "Download pretrain"
      ],
      "metadata": {
        "id": "1M-slrpvdH51"
      }
    },
    {
      "cell_type": "code",
      "source": [
        "#@title Download pretrain\n",
        "if Path(\"/content/pretrain\").exists():\n",
        "  !rm -rf /content/pretrain\n",
        "\n",
        "!wget -q --no-check-certificate -r 'https://github.com/chervonij/DFL-Colab/releases/download/pretrain-CelebA/pretrain_CelebA.zip' -O pretrain_CelebA.zip\n",
        "!mkdir /content/pretrain\n",
        "!unzip -q /content/pretrain_CelebA.zip -d /content/pretrain/\n",
        "!rm /content/pretrain_CelebA.zip\n",
        "\n",
        "print(\"Done!\")"
      ],
      "metadata": {
        "id": "nlpbX_20cKBk"
      },
      "execution_count": null,
      "outputs": []
    },
    {
      "cell_type": "code",
      "source": [
        "#@title Mount Drive\n",
        "\n",
        "from google.colab import drive\n",
        "drive.flush_and_unmount()\n",
        "drive.mount('/content/drive/', force_remount=True)"
      ],
      "metadata": {
        "id": "FoUhDJlGfcf7"
      },
      "execution_count": null,
      "outputs": []
    }
  ]
}