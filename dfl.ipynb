{
  "nbformat": 4,
  "nbformat_minor": 0,
  "metadata": {
    "colab": {
      "name": "test.ipynb",
      "private_outputs": true,
      "provenance": [],
      "toc_visible": true,
      "authorship_tag": "ABX9TyNdyL5LhdCu44sHAVJoAS3G",
      "include_colab_link": true
    },
    "kernelspec": {
      "name": "python3",
      "display_name": "Python 3"
    },
    "language_info": {
      "name": "python"
    },
    "accelerator": "GPU"
  },
  "cells": [
    {
      "cell_type": "markdown",
      "metadata": {
        "id": "view-in-github",
        "colab_type": "text"
      },
      "source": [
        "<a href=\"https://colab.research.google.com/github/Hat3/dfl/blob/main/dfl.ipynb\" target=\"_parent\"><img src=\"https://colab.research.google.com/assets/colab-badge.svg\" alt=\"Open In Colab\"/></a>"
      ]
    },
    {
      "cell_type": "markdown",
      "source": [
        "TEST GPU"
      ],
      "metadata": {
        "id": "RCGjNji5yqrT"
      }
    },
    {
      "cell_type": "markdown",
      "source": [
        ""
      ],
      "metadata": {
        "id": "u7c4ulN7MbWQ"
      }
    },
    {
      "cell_type": "code",
      "source": [
        "!nvidia-smi"
      ],
      "metadata": {
        "id": "Y3lLu9c3yrGF"
      },
      "execution_count": null,
      "outputs": []
    },
    {
      "cell_type": "code",
      "source": [
        "from pathlib import Path\n",
        "\n",
        "if not Path(\"/content/DeepFaceLab\").exists():\n",
        "  !git clone https://github.com/iperov/DeepFaceLab.git\n",
        "  print(\"Clone Done!\")\n",
        "else:\n",
        "  %cd \"/content/DeepFaceLab\"\n",
        "  !git pull\n",
        "  print(\"Pull Done!\")"
      ],
      "metadata": {
        "id": "l9GVSVYzSIAp"
      },
      "execution_count": null,
      "outputs": []
    },
    {
      "cell_type": "code",
      "source": [
        "!pip uninstall -y tensorflow\n",
        "print(\"Uninstall tensorflow Done!\")\n",
        "\n",
        "!pip install -r /content/DeepFaceLab/requirements-colab.txt\n",
        "print(\"Install requirements-colab Done!\")\n",
        "\n",
        "!pip install --upgrade scikit-image\n",
        "print(\"Install scikit-image Done!\")\n",
        "\n",
        "!apt-get install cuda-10-0\n",
        "print(\"Install cuda-10-0 Done!\")\n",
        "\n",
        "print(\"Install Done!\")"
      ],
      "metadata": {
        "id": "YCyGyox6XPRr"
      },
      "execution_count": null,
      "outputs": []
    },
    {
      "cell_type": "code",
      "source": [
        "from pathlib import Path\n",
        "if not Path(\"/content/pretrain\").exists():\n",
        "  !wget -q --no-check-certificate -r 'https://github.com/chervonij/DFL-Colab/releases/download/pretrain-CelebA/pretrain_CelebA.zip' -O pretrain_CelebA.zip\n",
        "  !mkdir /content/pretrain\n",
        "  !unzip -q /content/pretrain_CelebA.zip -d /content/pretrain/\n",
        "  !rm /content/pretrain_CelebA.zip\n",
        "  print(\"Downlaod pretrain done!\")"
      ],
      "metadata": {
        "id": "w0Bvi49ISi_C"
      },
      "execution_count": null,
      "outputs": []
    }
  ]
}